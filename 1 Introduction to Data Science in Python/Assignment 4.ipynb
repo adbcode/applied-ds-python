{
 "cells": [
  {
   "cell_type": "markdown",
   "metadata": {},
   "source": [
    "---\n",
    "\n",
    "_You are currently looking at **version** of this notebook. To download notebooks and datafiles, as well as get help on Jupyter notebooks in the Coursera platform, visit the [Jupyter Notebook FAQ](https://www.coursera.org/learn/python-data-analysis/resources/0dhYG) course resource._\n",
    "\n",
    "---"
   ]
  },
  {
   "cell_type": "code",
   "execution_count": 1,
   "metadata": {
    "collapsed": true
   },
   "outputs": [],
   "source": [
    "import pandas as pd\n",
    "import numpy as np\n",
    "from scipy.stats import ttest_ind\n",
    "import re"
   ]
  },
  {
   "cell_type": "markdown",
   "metadata": {},
   "source": [
    "# Assignment 4 - Hypothesis Testing\n",
    "This assignment requires more individual learning than previous assignments - you are encouraged to check out the [pandas documentation](http://pandas.pydata.org/pandas-docs/stable/) to find functions or methods you might not have used yet, or ask questions on [Stack Overflow](http://stackoverflow.com/) and tag them as pandas and python related. And of course, the discussion forums are open for interaction with your peers and the course staff.\n",
    "\n",
    "Definitions:\n",
    "* A _quarter_ is a specific three month period, Q1 is January through March, Q2 is April through June, Q3 is July through September, Q4 is October through December.\n",
    "* A _recession_ is defined as starting with two consecutive quarters of GDP decline, and ending with two consecutive quarters of GDP growth.\n",
    "* A _recession bottom_ is the quarter within a recession which had the lowest GDP.\n",
    "* A _university town_ is a city which has a high percentage of university students compared to the total population of the city.\n",
    "\n",
    "**Hypothesis**: University towns have their mean housing prices less effected by recessions. Run a t-test to compare the ratio of the mean price of houses in university towns the quarter before the recession starts compared to the recession bottom. (`price_ratio=quarter_before_recession/recession_bottom`)\n",
    "\n",
    "The following data files are available for this assignment:\n",
    "* From the [Zillow research data site](http://www.zillow.com/research/data/) there is housing data for the United States. In particular the datafile for [all homes at a city level](http://files.zillowstatic.com/research/public/City/City_Zhvi_AllHomes.csv), ```City_Zhvi_AllHomes.csv```, has median home sale prices at a fine grained level.\n",
    "* From the Wikipedia page on college towns is a list of [university towns in the United States](https://en.wikipedia.org/wiki/List_of_college_towns#College_towns_in_the_United_States) which has been copy and pasted into the file ```university_towns.txt```.\n",
    "* From Bureau of Economic Analysis, US Department of Commerce, the [GDP over time](http://www.bea.gov/national/index.htm#gdp) of the United States in current dollars (use the chained value in 2009 dollars), in quarterly intervals, in the file ```gdplev.xls```. For this assignment, only look at GDP data from the first quarter of 2000 onward.\n",
    "\n",
    "Each function in this assignment below is worth 10%, with the exception of ```run_ttest()```, which is worth 50%."
   ]
  },
  {
   "cell_type": "code",
   "execution_count": 2,
   "metadata": {
    "collapsed": true
   },
   "outputs": [],
   "source": [
    "# Use this dictionary to map state names to two letter acronyms\n",
    "states = {'OH': 'Ohio', 'KY': 'Kentucky', 'AS': 'American Samoa', 'NV': 'Nevada', 'WY': 'Wyoming', 'NA': 'National', 'AL': 'Alabama', 'MD': 'Maryland', 'AK': 'Alaska', 'UT': 'Utah', 'OR': 'Oregon', 'MT': 'Montana', 'IL': 'Illinois', 'TN': 'Tennessee', 'DC': 'District of Columbia', 'VT': 'Vermont', 'ID': 'Idaho', 'AR': 'Arkansas', 'ME': 'Maine', 'WA': 'Washington', 'HI': 'Hawaii', 'WI': 'Wisconsin', 'MI': 'Michigan', 'IN': 'Indiana', 'NJ': 'New Jersey', 'AZ': 'Arizona', 'GU': 'Guam', 'MS': 'Mississippi', 'PR': 'Puerto Rico', 'NC': 'North Carolina', 'TX': 'Texas', 'SD': 'South Dakota', 'MP': 'Northern Mariana Islands', 'IA': 'Iowa', 'MO': 'Missouri', 'CT': 'Connecticut', 'WV': 'West Virginia', 'SC': 'South Carolina', 'LA': 'Louisiana', 'KS': 'Kansas', 'NY': 'New York', 'NE': 'Nebraska', 'OK': 'Oklahoma', 'FL': 'Florida', 'CA': 'California', 'CO': 'Colorado', 'PA': 'Pennsylvania', 'DE': 'Delaware', 'NM': 'New Mexico', 'RI': 'Rhode Island', 'MN': 'Minnesota', 'VI': 'Virgin Islands', 'NH': 'New Hampshire', 'MA': 'Massachusetts', 'GA': 'Georgia', 'ND': 'North Dakota', 'VA': 'Virginia'}"
   ]
  },
  {
   "cell_type": "code",
   "execution_count": 3,
   "metadata": {
    "collapsed": true,
    "umich_part_id": "021",
    "umich_partlist_id": "004"
   },
   "outputs": [],
   "source": [
    "def get_list_of_university_towns():\n",
    "    '''Returns a DataFrame of towns and the states they are in from the \n",
    "    university_towns.txt list. The format of the DataFrame should be:\n",
    "    DataFrame( [ [\"Michigan\", \"Ann Arbor\"], [\"Michigan\", \"Yipsilanti\"] ], \n",
    "    columns=[\"State\", \"RegionName\"]  )\n",
    "    \n",
    "    The following cleaning needs to be done:\n",
    "\n",
    "    1. For \"State\", removing characters from \"[\" to the end.\n",
    "    2. For \"RegionName\", when applicable, removing every character from \" (\" to the end.\n",
    "    3. Depending on how you read the data, you may need to remove newline character '\\n'. '''\n",
    "\n",
    "    towns = []\n",
    "    with open('university_towns.txt') as file:\n",
    "        for line in file.readlines():\n",
    "            if not re.match(r'^\\s*$', line):\n",
    "                towns.append(line)\n",
    "                \n",
    "    for index, line in enumerate(towns):\n",
    "        towns[index] = line.strip()\n",
    "        \n",
    "    df = pd.DataFrame(columns=('State', 'RegionName'))\n",
    "    i = 0\n",
    "    state = \"\"\n",
    "    region = \"\"\n",
    "    for line in towns:\n",
    "        if '[edit]' in line:\n",
    "            state = line.replace('[edit]', \"\")\n",
    "        else:\n",
    "            region = re.sub(r' \\(.*', \"\", line)\n",
    "            df.loc[i] = [state, region]\n",
    "            i += 1\n",
    "    \n",
    "    return df"
   ]
  },
  {
   "cell_type": "code",
   "execution_count": 4,
   "metadata": {
    "collapsed": true,
    "umich_part_id": "022",
    "umich_partlist_id": "004"
   },
   "outputs": [],
   "source": [
    "def get_recession_start():\n",
    "    '''Returns the year and quarter of the recession start time as a \n",
    "    string value in a format such as 2005q3'''\n",
    "\n",
    "    gdp = pd.ExcelFile('gdplev.xls').parse(skiprows=7)[['Unnamed: 4', 'Unnamed: 5']].loc[212:]\n",
    "    gdp.columns = ['Quarter', 'GDP']\n",
    "    gdp['GDP'] = gdp['GDP'].astype('float32')\n",
    "\n",
    "    for i in range(len(gdp) - 2):\n",
    "        if (gdp.iloc[i][1] > gdp.iloc[i+1][1]) & (gdp.iloc[i+1][1] > gdp.iloc[i+2][1]):\n",
    "            return gdp.iloc[i][0]"
   ]
  },
  {
   "cell_type": "code",
   "execution_count": 5,
   "metadata": {
    "collapsed": true,
    "umich_part_id": "023",
    "umich_partlist_id": "004"
   },
   "outputs": [],
   "source": [
    "def get_recession_end():\n",
    "    '''Returns the year and quarter of the recession end time as a \n",
    "    string value in a format such as 2005q3'''\n",
    "\n",
    "    gdp = pd.ExcelFile('gdplev.xls').parse(skiprows=7)[['Unnamed: 4', 'Unnamed: 5']].loc[212:]\n",
    "    gdp.columns = ['Quarter', 'GDP']\n",
    "    gdp['GDP'] = gdp['GDP'].astype('float32')\n",
    "    \n",
    "    start = 0\n",
    "    \n",
    "    for i in range(len(gdp) - 2):\n",
    "        if (gdp.iloc[i][1] > gdp.iloc[i+1][1]) & (gdp.iloc[i+1][1] > gdp.iloc[i+2][1]):\n",
    "            start = i\n",
    "            for j in range (start, len(gdp) - 2):\n",
    "                if (gdp.iloc[j][1] < gdp.iloc[j+1][1]) & (gdp.iloc[j+1][1] < gdp.iloc[j+2][1]):\n",
    "                    return gdp.iloc[j+2][0]"
   ]
  },
  {
   "cell_type": "code",
   "execution_count": 6,
   "metadata": {
    "collapsed": true,
    "umich_part_id": "024",
    "umich_partlist_id": "004"
   },
   "outputs": [],
   "source": [
    "def get_recession_bottom():\n",
    "    '''Returns the year and quarter of the recession bottom time as a \n",
    "    string value in a format such as 2005q3'''\n",
    "    \n",
    "    gdp = pd.ExcelFile('gdplev.xls').parse(skiprows=7)[['Unnamed: 4', 'Unnamed: 5']].loc[212:]\n",
    "    gdp.columns = ['Quarter', 'GDP']\n",
    "    gdp['GDP'] = gdp['GDP'].astype('float32')\n",
    "    \n",
    "    start = 0\n",
    "    end = 0\n",
    "    \n",
    "    for i in range(len(gdp) - 2):\n",
    "        if (gdp.iloc[i][1] > gdp.iloc[i+1][1]) & (gdp.iloc[i+1][1] > gdp.iloc[i+2][1]):\n",
    "            start = i\n",
    "            for j in range (start, len(gdp) - 2):\n",
    "                if (gdp.iloc[j][1] < gdp.iloc[j+1][1]) & (gdp.iloc[j+1][1] < gdp.iloc[j+2][1]):\n",
    "                    end = j\n",
    "                    \n",
    "    recession = gdp.iloc[start:end]\n",
    "    return recession['Quarter'].loc[recession['GDP'].idxmin()]"
   ]
  },
  {
   "cell_type": "code",
   "execution_count": 7,
   "metadata": {
    "collapsed": true,
    "umich_part_id": "025",
    "umich_partlist_id": "004"
   },
   "outputs": [],
   "source": [
    "def convert_housing_data_to_quarters():\n",
    "    '''Converts the housing data to quarters and returns it as mean \n",
    "    values in a dataframe. This dataframe should be a dataframe with\n",
    "    columns for 2000q1 through 2016q3, and should have a multi-index\n",
    "    in the shape of [\"State\",\"RegionName\"].\n",
    "    \n",
    "    Note: Quarters are defined in the assignment description, they are\n",
    "    not arbitrary three month periods.\n",
    "    \n",
    "    The resulting dataframe should have 67 columns, and 10,730 rows.\n",
    "    '''\n",
    "\n",
    "    df = pd.read_csv('City_Zhvi_AllHomes.csv', header=0)\n",
    "    \n",
    "    columns = ['RegionID', 'RegionName', 'State']\n",
    "    for i in range(2000, 2017):\n",
    "        for j in range(1, 13):\n",
    "            if j <=9:\n",
    "                if i == 2016 and j == 9:\n",
    "                    pass\n",
    "                else:\n",
    "                    month = '0' + str(j)\n",
    "            else:\n",
    "                if i == 2016:\n",
    "                    pass\n",
    "                else:\n",
    "                    month = str(j)\n",
    "    \n",
    "            columns.append(str(i) + '-' + month)\n",
    "    \n",
    "    df = df[columns]\n",
    "    df['State'] = df['State'].replace(states)\n",
    "    \n",
    "    def convert_quarter(date):\n",
    "        year, month = date.split('-')\n",
    "        if month in ('01', '02', '03'):\n",
    "            output = year + 'q1'\n",
    "        elif month in ('04', '05', '06'):\n",
    "            output = year + 'q2'\n",
    "        elif month in ('07', '08', '09'):\n",
    "            output = year + 'q3'\n",
    "        else:\n",
    "            output = year + 'q4'\n",
    "        return output\n",
    "    \n",
    "    df_2 = df.copy().set_index(['State', 'RegionName', 'RegionID']).stack(dropna=False)\n",
    "    df_2 = df_2.reset_index().rename(columns={'level_3': 'Period', 0: 'GDP'})\n",
    "    df_2.drop_duplicates(inplace=True)\n",
    "    df_2['Quarter'] = df_2['Period'].apply(convert_quarter)\n",
    "    \n",
    "    return df_2.pivot_table(values='GDP', index=['State', 'RegionName', 'RegionID'], columns='Quarter', aggfunc=np.mean).reset_index().drop('RegionID', axis=1).set_index(['State', 'RegionName'])"
   ]
  },
  {
   "cell_type": "code",
   "execution_count": 10,
   "metadata": {
    "umich_part_id": "026",
    "umich_partlist_id": "004"
   },
   "outputs": [],
   "source": [
    "def run_ttest():\n",
    "    '''First creates new data showing the decline or growth of housing prices\n",
    "    between the recession start and the recession bottom. Then runs a ttest\n",
    "    comparing the university town values to the non-university towns values, \n",
    "    return whether the alternative hypothesis (that the two groups are the same)\n",
    "    is true or not as well as the p-value of the confidence. \n",
    "    \n",
    "    Return the tuple (different, p, better) where different=True if the t-test is\n",
    "    True at a p<0.01 (we reject the null hypothesis), or different=False if \n",
    "    otherwise (we cannot reject the null hypothesis). The variable p should\n",
    "    be equal to the exact p value returned from scipy.stats.ttest_ind(). The\n",
    "    value for better should be either \"university town\" or \"non-university town\"\n",
    "    depending on which has a lower mean price ratio (which is equivilent to a\n",
    "    reduced market loss).'''\n",
    "    \n",
    "    uni_towns = get_list_of_university_towns()\n",
    "    uni_towns['UT'] = True\n",
    "    \n",
    "    df = pd.merge(convert_housing_data_to_quarters(), uni_towns, how='left', left_index=True, right_on=['State', 'RegionName'])\n",
    "    df['UT'] = df['UT'].replace({np.NaN: False})\n",
    "    \n",
    "    start = get_recession_start()\n",
    "    bottom = get_recession_bottom()\n",
    "    \n",
    "    start_y = int(start.split('q')[0])\n",
    "    start_q = int(start.split('q')[1])\n",
    "    bottom_y = int(bottom.split('q')[0])\n",
    "    bottom_q = int(bottom.split('q')[1])\n",
    "    \n",
    "    before = str(start_y) + 'q' + str(start_q-1)\n",
    "    \n",
    "    columns = ['State', 'RegionName', 'UT']\n",
    "    quarters = []\n",
    "    for i in range(start_y, bottom_y+1):\n",
    "        for j in range(1, 5):\n",
    "            if (i == start_y and j < start_q) or (i == bottom_y and j > bottom_q):\n",
    "                pass\n",
    "            else:\n",
    "                quarters.append(str(i) + 'q' + str(j))\n",
    "                \n",
    "    quarters.append(before)\n",
    "    \n",
    "    df = df[columns + quarters]\n",
    "    \n",
    "    df['Ratio'] = df[before] / df[bottom]\n",
    "    \n",
    "    UT = df[df['UT']==True]['Ratio']\n",
    "    nonUT = df[df['UT']==False]['Ratio']\n",
    "    stat, p = ttest_ind(UT, nonUT, nan_policy='omit')\n",
    "    \n",
    "    different = False\n",
    "    if p < 0.01:\n",
    "        different = True\n",
    "    \n",
    "    better = \"\"\n",
    "    if UT.mean() < nonUT.mean():\n",
    "        better = \"university town\"\n",
    "    else:\n",
    "        better = \"non-university town\"\n",
    "    \n",
    "    return (different, p, better)"
   ]
  }
 ],
 "metadata": {
  "coursera": {
   "course_slug": "python-data-analysis",
   "graded_item_id": "Il9Fx",
   "launcher_item_id": "TeDW0",
   "part_id": "WGlun"
  },
  "kernelspec": {
   "display_name": "Python 3",
   "language": "python",
   "name": "python3"
  },
  "language_info": {
   "codemirror_mode": {
    "name": "ipython",
    "version": 3
   },
   "file_extension": ".py",
   "mimetype": "text/x-python",
   "name": "python",
   "nbconvert_exporter": "python",
   "pygments_lexer": "ipython3",
   "version": "3.6.2"
  },
  "umich": {
   "id": "Assignment 4",
   "version": "1.1"
  }
 },
 "nbformat": 4,
 "nbformat_minor": 1
}
